{
 "cells": [
  {
   "cell_type": "markdown",
   "id": "010b922a",
   "metadata": {},
   "source": [
    "# Test GPU Simple - Diagnostic CPU vs GPU\n",
    "\n",
    "**Objectif** : Tester l'implémentation GPU avec schémas simples\n",
    "\n",
    "- ✅ Test CPU avec schémas first_order + euler\n",
    "- ✅ Test GPU avec schémas first_order + euler  \n",
    "- ✅ Comparaison de précision\n",
    "\n",
    "## Instructions Kaggle\n",
    "\n",
    "1. **Activer GPU** dans les paramètres du notebook\n",
    "2. **Exécuter toutes les cellules** (Runtime → Run All)\n",
    "3. Les résultats s'affichent directement\n",
    "\n",
    "📋 Test de diagnostic pour isoler les problèmes GPU vs schémas avancés."
   ]
  },
  {
   "cell_type": "markdown",
   "id": "9aba04ab",
   "metadata": {},
   "source": [
    "## 1. Setup Environnement Kaggle"
   ]
  },
  {
   "cell_type": "code",
   "execution_count": null,
   "id": "b77803be",
   "metadata": {},
   "outputs": [],
   "source": [
    "!rm -rf Code-traffic-flow\n",
    "\n",
    "# Cloner le dépôt et setup\n",
    "!git clone https://github.com/elonmj/Code-traffic-flow.git\n",
    "\n",
    "import os\n",
    "import sys\n",
    "\n",
    "# Se déplacer dans le dossier du projet cloné\n",
    "project_dir = \"Code-traffic-flow\"\n",
    "os.chdir(project_dir)\n",
    "print(f\"✅ Répertoire de travail: {os.getcwd()}\")\n",
    "\n",
    "# Ajouter au path Python\n",
    "current_dir = os.getcwd()\n",
    "if current_dir not in sys.path:\n",
    "    sys.path.insert(0, current_dir)\n",
    "\n",
    "print(\"🎯 Setup terminé\")"
   ]
  },
  {
   "cell_type": "markdown",
   "id": "14d54d86",
   "metadata": {},
   "source": [
    "## 2. Test Simple CPU vs GPU"
   ]
  },
  {
   "cell_type": "code",
   "execution_count": null,
   "id": "39625032",
   "metadata": {},
   "outputs": [],
   "source": [
    "# Test de diagnostic CPU vs GPU avec schémas simples\n",
    "print(\"🔍 LANCEMENT DU TEST DIAGNOSTIC\")\n",
    "print(\"=\"*50)\n",
    "\n",
    "# Lancer le test\n",
    "!python test_simple_cpu_gpu.py\n",
    "\n",
    "print(\"\\n✅ Test terminé\")"
   ]
  },
  {
   "cell_type": "code",
   "execution_count": null,
   "id": "8021fb2b",
   "metadata": {},
   "outputs": [],
   "source": [
    "# Export des résultats dans dossier output\n",
    "import shutil\n",
    "import zipfile\n",
    "from datetime import datetime\n",
    "\n",
    "print(\"📦 EXPORT DES RÉSULTATS\")\n",
    "print(\"=\"*30)\n",
    "\n",
    "# Créer dossier output\n",
    "output_dir = \"output_simple_test_kaggle\"\n",
    "os.makedirs(output_dir, exist_ok=True)\n",
    "\n",
    "files_exported = []\n",
    "\n",
    "# Vérifier et copier les fichiers NPZ générés\n",
    "if os.path.exists(\"output_simple_test\"):\n",
    "    source_files = os.listdir(\"output_simple_test\")\n",
    "    print(f\"📁 Fichiers trouvés: {len(source_files)}\")\n",
    "    \n",
    "    for filename in source_files:\n",
    "        if filename.endswith('.npz'):\n",
    "            source_path = f\"output_simple_test/{filename}\"\n",
    "            dest_path = os.path.join(output_dir, filename)\n",
    "            shutil.copy2(source_path, dest_path)\n",
    "            files_exported.append(dest_path)\n",
    "            size = os.path.getsize(dest_path) / 1024\n",
    "            print(f\"   ✅ {filename} ({size:.1f} KB)\")\n",
    "    \n",
    "    # Créer ZIP pour Kaggle\n",
    "    zip_filename = \"../output_simple_test.zip\"\n",
    "    with zipfile.ZipFile(zip_filename, 'w', zipfile.ZIP_DEFLATED) as zipf:\n",
    "        for file_path in files_exported:\n",
    "            zipf.write(file_path, os.path.basename(file_path))\n",
    "    \n",
    "    zip_size = os.path.getsize(zip_filename) / 1024\n",
    "    print(f\"\\n📦 ZIP créé: output_simple_test.zip ({zip_size:.1f} KB)\")\n",
    "    print(\"✅ Test simple réussi - résultats exportés\")\n",
    "else:\n",
    "    print(\"❌ Aucun résultat trouvé\")"
   ]
  }
 ],
 "metadata": {
  "language_info": {
   "name": "python"
  }
 },
 "nbformat": 4,
 "nbformat_minor": 5
}
